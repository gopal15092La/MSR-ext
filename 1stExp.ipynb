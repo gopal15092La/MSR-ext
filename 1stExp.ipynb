{
 "cells": [
  {
   "cell_type": "code",
   "execution_count": 1,
   "id": "7c3e0254-0c60-4e55-96c2-2f9eafa2d503",
   "metadata": {},
   "outputs": [
    {
     "name": "stdout",
     "output_type": "stream",
     "text": [
      "t-statistic: -7.591724818134921, p-value: 5.125290118815372e-07\n",
      "Reject the null hypothesis - there is a significant difference.\n"
     ]
    }
   ],
   "source": [
    "import numpy as np\n",
    "from scipy import stats\n",
    "wmc_uims = np.array([15, 18, 22, 20, 17, 21, 19, 16, 23, 20])\n",
    "\n",
    "wmc_ques = np.array([25, 28, 30, 27, 26, 29, 24, 27, 31, 26])\n",
    "\n",
    "t_stat, p_value = stats.ttest_ind(wmc_uims, wmc_ques)\n",
    "\n",
    "print(f\"t-statistic: {t_stat}, p-value: {p_value}\")\n",
    "\n",
    "alpha = 0.05\n",
    "\n",
    "if p_value < alpha:\n",
    "    print(\"Reject the null hypothesis - there is a significant difference.\")\n",
    "else:\n",
    "    print(\"Fail to reject the null hypothesis - no significant difference.\")\n"
   ]
  },
  {
   "cell_type": "code",
   "execution_count": null,
   "id": "a2182f41-f24b-4c7b-abea-dbcb8f6263fb",
   "metadata": {},
   "outputs": [],
   "source": []
  }
 ],
 "metadata": {
  "kernelspec": {
   "display_name": "Python 3 (ipykernel)",
   "language": "python",
   "name": "python3"
  },
  "language_info": {
   "codemirror_mode": {
    "name": "ipython",
    "version": 3
   },
   "file_extension": ".py",
   "mimetype": "text/x-python",
   "name": "python",
   "nbconvert_exporter": "python",
   "pygments_lexer": "ipython3",
   "version": "3.11.7"
  }
 },
 "nbformat": 4,
 "nbformat_minor": 5
}
