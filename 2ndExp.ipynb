{
 "cells": [
  {
   "cell_type": "code",
   "execution_count": 2,
   "id": "7c3e0254-0c60-4e55-96c2-2f9eafa2d503",
   "metadata": {},
   "outputs": [
    {
     "name": "stdout",
     "output_type": "stream",
     "text": [
      "t-statistic: 1.9625194018651153, p-value: 0.062471760801970484\n",
      "Fail to reject the null hypothesis - no significant difference.\n"
     ]
    }
   ],
   "source": [
    "import numpy as np\n",
    "from scipy import stats\n",
    "\n",
    "# Coupling data for Industrial software\n",
    "cind = np.array([150, 140, 172, 192, 186, 180, 144, 160, 188, 145, 150, 141])\n",
    "\n",
    "# Coupling data for Open source software\n",
    "coss = np.array([138, 111, 155, 169, 100, 151, 158, 130, 160, 156, 167, 152])\n",
    "\n",
    "# Perform independent samples t-test\n",
    "t_stat, p_value = stats.ttest_ind(cind, coss)\n",
    "\n",
    "# Print the results\n",
    "print(f\"t-statistic: {t_stat}, p-value: {p_value}\")\n",
    "\n",
    "# Set the significance level\n",
    "alpha = 0.05\n",
    "\n",
    "# Check if we should reject the null hypothesis\n",
    "if p_value < alpha:\n",
    "    print(\"Reject the null hypothesis - there is a significant difference.\")\n",
    "else:\n",
    "    print(\"Fail to reject the null hypothesis - no significant difference.\")\n"
   ]
  },
  {
   "cell_type": "code",
   "execution_count": null,
   "id": "e0184840-8051-4dea-9e67-18f671686d82",
   "metadata": {},
   "outputs": [],
   "source": []
  }
 ],
 "metadata": {
  "kernelspec": {
   "display_name": "Python 3 (ipykernel)",
   "language": "python",
   "name": "python3"
  },
  "language_info": {
   "codemirror_mode": {
    "name": "ipython",
    "version": 3
   },
   "file_extension": ".py",
   "mimetype": "text/x-python",
   "name": "python",
   "nbconvert_exporter": "python",
   "pygments_lexer": "ipython3",
   "version": "3.11.7"
  }
 },
 "nbformat": 4,
 "nbformat_minor": 5
}
